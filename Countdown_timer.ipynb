{
  "nbformat": 4,
  "nbformat_minor": 0,
  "metadata": {
    "colab": {
      "provenance": [],
      "authorship_tag": "ABX9TyNyIAHqYKMckN0msdhdu4c7",
      "include_colab_link": true
    },
    "kernelspec": {
      "name": "python3",
      "display_name": "Python 3"
    },
    "language_info": {
      "name": "python"
    }
  },
  "cells": [
    {
      "cell_type": "markdown",
      "metadata": {
        "id": "view-in-github",
        "colab_type": "text"
      },
      "source": [
        "<a href=\"https://colab.research.google.com/github/shaheer-baig43/Python-Projects/blob/main/Countdown_timer.ipynb\" target=\"_parent\"><img src=\"https://colab.research.google.com/assets/colab-badge.svg\" alt=\"Open In Colab\"/></a>"
      ]
    },
    {
      "cell_type": "code",
      "execution_count": null,
      "metadata": {
        "id": "SG8-QwaoZcDN"
      },
      "outputs": [],
      "source": []
    },
    {
      "cell_type": "markdown",
      "source": [
        "**Project 5: Countdown Timer**"
      ],
      "metadata": {
        "id": "c9CeFjTFZehM"
      }
    },
    {
      "cell_type": "code",
      "source": [
        "#Project 5: Countdown timer\n",
        "\n",
        "import time\n",
        "from IPython.display import clear_output\n",
        "\n",
        "def countdown_timer(seconds):\n",
        "    while seconds:\n",
        "        mins, secs = divmod(seconds, 60)\n",
        "        timer = f'{mins:02}:{secs:02}'\n",
        "        clear_output(wait=True)  # Clears previous output\n",
        "        print(timer)\n",
        "        time.sleep(1)\n",
        "        seconds -= 1\n",
        "\n",
        "    clear_output(wait=True)\n",
        "    print(\"Time's up!\")\n",
        "\n",
        "seconds = int(input(\"Enter the countdown time in seconds: \"))\n",
        "countdown_timer(seconds)\n",
        "\n"
      ],
      "metadata": {
        "colab": {
          "base_uri": "https://localhost:8080/"
        },
        "id": "wDqMeuNTZpAR",
        "outputId": "a297de47-c5cf-46ae-f67b-a4431e4199b5"
      },
      "execution_count": 4,
      "outputs": [
        {
          "output_type": "stream",
          "name": "stdout",
          "text": [
            "Time's up!\n"
          ]
        }
      ]
    }
  ]
}