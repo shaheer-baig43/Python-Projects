{
  "nbformat": 4,
  "nbformat_minor": 0,
  "metadata": {
    "colab": {
      "provenance": [],
      "authorship_tag": "ABX9TyNZ9t7Jdgcrh10n4lgR+3KS",
      "include_colab_link": true
    },
    "kernelspec": {
      "name": "python3",
      "display_name": "Python 3"
    },
    "language_info": {
      "name": "python"
    }
  },
  "cells": [
    {
      "cell_type": "markdown",
      "metadata": {
        "id": "view-in-github",
        "colab_type": "text"
      },
      "source": [
        "<a href=\"https://colab.research.google.com/github/shaheer-baig43/Python-Projects/blob/main/GuessTheNumber(Computer).ipynb\" target=\"_parent\"><img src=\"https://colab.research.google.com/assets/colab-badge.svg\" alt=\"Open In Colab\"/></a>"
      ]
    },
    {
      "cell_type": "code",
      "execution_count": null,
      "metadata": {
        "id": "24YNZ_5NTdOq"
      },
      "outputs": [],
      "source": []
    },
    {
      "cell_type": "markdown",
      "source": [
        "**Project 2: GuessTheNumber(Computer)**"
      ],
      "metadata": {
        "id": "oNEcaVl0gZkc"
      }
    },
    {
      "cell_type": "code",
      "source": [
        "import random\n",
        "\n",
        "\n",
        "def guess_the_number():\n",
        "    '''Project 2: Guess The Number By Computer.'''\n",
        "    number = random.randint(1, 100)\n",
        "    guesses_left = 7\n",
        "    #start msg\n",
        "    print(\"Welcome to Guess The Number Game (computer)!\")\n",
        "    print('I am thinking a number between 1 to 100...')\n",
        "\n",
        "    #loop\n",
        "    while guesses_left > 0:\n",
        "        print(f'\\n You have {guesses_left} guesses left')\n",
        "        try:\n",
        "           guess = int(input('Guess the number: '))\n",
        "        except ValueError:\n",
        "            print('Invalid input. Please enter a number')\n",
        "            continue\n",
        "\n",
        "\n",
        "\n",
        "        if guess<number :\n",
        "             print('Too Low Number')\n",
        "        elif guess > number :\n",
        "             print('Too High Number')\n",
        "        else :\n",
        "             print('Congratulations! You got the correct number in {7 - guesses_left guesses}')\n",
        "\n",
        "\n",
        "      # Guesses left\n",
        "        guesses_left -= 1\n",
        "    if guesses_left == 0:\n",
        "        print(f'You ran out of tries. The number was {number}')\n",
        "\n",
        "guess_the_number()\n",
        "\n"
      ],
      "metadata": {
        "colab": {
          "base_uri": "https://localhost:8080/"
        },
        "id": "fw1ljRS9gf5-",
        "outputId": "f2fbbb99-afe6-456c-9bfe-021971f3514d"
      },
      "execution_count": 1,
      "outputs": [
        {
          "output_type": "stream",
          "name": "stdout",
          "text": [
            "Welcome to Guess The Number Game (computer)!\n",
            "I am thinking a number between 1 to 100...\n",
            "\n",
            " You have 7 guesses left\n",
            "Guess the number: 30\n",
            "Too Low Number\n",
            "\n",
            " You have 6 guesses left\n",
            "Guess the number: 40\n",
            "Too Low Number\n",
            "\n",
            " You have 5 guesses left\n",
            "Guess the number: 50\n",
            "Too Low Number\n",
            "\n",
            " You have 4 guesses left\n",
            "Guess the number: 60\n",
            "Too Low Number\n",
            "\n",
            " You have 3 guesses left\n",
            "Guess the number: 70\n",
            "Too Low Number\n",
            "\n",
            " You have 2 guesses left\n",
            "Guess the number: 80\n",
            "Too Low Number\n",
            "\n",
            " You have 1 guesses left\n",
            "Guess the number: 87\n",
            "Too Low Number\n",
            "You ran out of tries. The number was 91\n"
          ]
        }
      ]
    }
  ]
}