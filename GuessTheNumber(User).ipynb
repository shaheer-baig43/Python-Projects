{
  "nbformat": 4,
  "nbformat_minor": 0,
  "metadata": {
    "colab": {
      "provenance": [],
      "authorship_tag": "ABX9TyO7vJNvgpuJLwQ006YRWDro",
      "include_colab_link": true
    },
    "kernelspec": {
      "name": "python3",
      "display_name": "Python 3"
    },
    "language_info": {
      "name": "python"
    }
  },
  "cells": [
    {
      "cell_type": "markdown",
      "metadata": {
        "id": "view-in-github",
        "colab_type": "text"
      },
      "source": [
        "<a href=\"https://colab.research.google.com/github/shaheer-baig43/Python-Projects/blob/main/GuessTheNumber(User).ipynb\" target=\"_parent\"><img src=\"https://colab.research.google.com/assets/colab-badge.svg\" alt=\"Open In Colab\"/></a>"
      ]
    },
    {
      "cell_type": "code",
      "execution_count": null,
      "metadata": {
        "id": "2Y7nOyiisI-p"
      },
      "outputs": [],
      "source": []
    },
    {
      "cell_type": "markdown",
      "source": [],
      "metadata": {
        "id": "bWTro7XisO1M"
      }
    },
    {
      "cell_type": "markdown",
      "source": [
        "**Project 3: GuessTheNumber(User)**"
      ],
      "metadata": {
        "id": "1s5yoXoAsRuT"
      }
    },
    {
      "cell_type": "code",
      "source": [
        "import random\n",
        "\n",
        "def computer_guess():\n",
        "    print(\"Think of a number between 1 and 100, and I'll try to guess it!\")\n",
        "\n",
        "\n",
        "    answer = input('Wanna Play! (Yes/No)')\n",
        "    if answer.lower() == 'yes':\n",
        "\n",
        "        low = 1\n",
        "        high = 100\n",
        "        attempts = 0\n",
        "\n",
        "\n",
        "        while True:\n",
        "            guess = random.randint(low, high)\n",
        "            attempts += 1\n",
        "            print(f\"Is it {guess}? (h/l/c)\")\n",
        "            user_feedback = input(\"Enter 'h' if my guess is too high, 'l' if it's too low, or 'c' if correct: \").lower()\n",
        "\n",
        "            if user_feedback == 'c':\n",
        "                print(f\"Yay! I guessed your number {guess} in {attempts} attempts.\")\n",
        "                break\n",
        "            elif user_feedback == 'h':\n",
        "                high = guess - 1\n",
        "            elif user_feedback == 'l':\n",
        "                low = guess + 1\n",
        "            else:\n",
        "                print(\"Invalid input. Please enter 'h', 'l', or 'c'.\")\n",
        "                continue\n",
        "\n",
        "            if attempts > 7 :\n",
        "                print('I am unable to guess it in 7 attempts. You win!')\n",
        "    else:\n",
        "        print('Its ok We will play later!')\n",
        "\n",
        "\n",
        "computer_guess()\n"
      ],
      "metadata": {
        "colab": {
          "base_uri": "https://localhost:8080/"
        },
        "id": "_QcwXWBBsbZT",
        "outputId": "5c338824-a095-41c0-8057-4435a48c229d"
      },
      "execution_count": 2,
      "outputs": [
        {
          "output_type": "stream",
          "name": "stdout",
          "text": [
            "Think of a number between 1 and 100, and I'll try to guess it!\n",
            "Wanna Play! (Yes/No)yes\n",
            "Is it 62? (h/l/c)\n",
            "Enter 'h' if my guess is too high, 'l' if it's too low, or 'c' if correct: h\n",
            "Is it 25? (h/l/c)\n",
            "Enter 'h' if my guess is too high, 'l' if it's too low, or 'c' if correct: l\n",
            "Is it 45? (h/l/c)\n",
            "Enter 'h' if my guess is too high, 'l' if it's too low, or 'c' if correct: l\n",
            "Is it 57? (h/l/c)\n",
            "Enter 'h' if my guess is too high, 'l' if it's too low, or 'c' if correct: l\n",
            "Is it 60? (h/l/c)\n",
            "Enter 'h' if my guess is too high, 'l' if it's too low, or 'c' if correct: c\n",
            "Yay! I guessed your number 60 in 5 attempts.\n"
          ]
        }
      ]
    }
  ]
}