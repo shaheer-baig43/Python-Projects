{
  "nbformat": 4,
  "nbformat_minor": 0,
  "metadata": {
    "colab": {
      "provenance": [],
      "authorship_tag": "ABX9TyPXI25g+nmCPiBxKXeewZT0",
      "include_colab_link": true
    },
    "kernelspec": {
      "name": "python3",
      "display_name": "Python 3"
    },
    "language_info": {
      "name": "python"
    }
  },
  "cells": [
    {
      "cell_type": "markdown",
      "metadata": {
        "id": "view-in-github",
        "colab_type": "text"
      },
      "source": [
        "<a href=\"https://colab.research.google.com/github/shaheer-baig43/Python-Projects/blob/main/Hangman_Game.ipynb\" target=\"_parent\"><img src=\"https://colab.research.google.com/assets/colab-badge.svg\" alt=\"Open In Colab\"/></a>"
      ]
    },
    {
      "cell_type": "code",
      "execution_count": null,
      "metadata": {
        "id": "MgAYmdSuVjoP"
      },
      "outputs": [],
      "source": []
    },
    {
      "cell_type": "markdown",
      "source": [
        "**Project 5: Hangman Game**"
      ],
      "metadata": {
        "id": "jS7_fdXIVkc1"
      }
    },
    {
      "cell_type": "code",
      "source": [
        "#Project 5: Hangman Game\n",
        "\n",
        "\n",
        "import random\n",
        "\n",
        "\n",
        "words = ['shaheer', 'game', 'mango', 'python']\n",
        "\n",
        "\n",
        "\n",
        "word = random.choice(words)\n",
        "guess_letters = []\n",
        "\n",
        "attempts = 6\n",
        "\n",
        "print('This is a hangman game!')\n",
        "print('_ '* len(word))\n",
        "\n",
        "\n",
        "while attempts > 0 :\n",
        "    guess = input('\\n  Enter your guessed letter: ').lower()\n",
        "    if len(guess) != 1  :\n",
        "        print('Write one alphabet only')\n",
        "    elif not guess.isalpha():\n",
        "        print('Write a letter only')\n",
        "        continue\n",
        "    if guess in guess_letters :\n",
        "        print('You already guessed this letter')\n",
        "        continue\n",
        "    guess_letters.append(guess)\n",
        "    if guess not in word :\n",
        "        print('Wrong guess')\n",
        "        attempts -= 1\n",
        "        print(f'You have {attempts} attempts left')\n",
        "    else:\n",
        "        print('Good guess')\n",
        "\n",
        "    displayed_word = \"\".join(letter if letter in guess_letters else \"_ \" for letter in word)\n",
        "    print(displayed_word)\n",
        "\n",
        "    if \"_\" not in displayed_word :\n",
        "         print(f'Congratulations! the correct word is {word}')\n",
        "         break\n",
        "else :\n",
        "    print(f'Game Over! the correct word is {word}')\n",
        ""
      ],
      "metadata": {
        "colab": {
          "base_uri": "https://localhost:8080/"
        },
        "id": "K7Xpzaq2VuC5",
        "outputId": "555208c7-6f7c-4af4-c690-0f388290d5d2"
      },
      "execution_count": 3,
      "outputs": [
        {
          "output_type": "stream",
          "name": "stdout",
          "text": [
            "This is a hangman game!\n",
            "_ _ _ _ _ _ _ \n",
            "\n",
            "  Enter your guessed letter: s\n",
            "Good guess\n",
            "s_ _ _ _ _ _ \n",
            "\n",
            "  Enter your guessed letter: h\n",
            "Good guess\n",
            "sh_ h_ _ _ \n",
            "\n",
            "  Enter your guessed letter: a\n",
            "Good guess\n",
            "shah_ _ _ \n",
            "\n",
            "  Enter your guessed letter: e\n",
            "Good guess\n",
            "shahee_ \n",
            "\n",
            "  Enter your guessed letter: r\n",
            "Good guess\n",
            "shaheer\n",
            "Congratulations! the correct word is shaheer\n"
          ]
        }
      ]
    }
  ]
}