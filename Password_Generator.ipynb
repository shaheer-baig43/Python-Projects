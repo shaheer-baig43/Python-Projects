{
  "nbformat": 4,
  "nbformat_minor": 0,
  "metadata": {
    "colab": {
      "provenance": [],
      "authorship_tag": "ABX9TyOcGfmJ2bO97bb6HVbRshi5",
      "include_colab_link": true
    },
    "kernelspec": {
      "name": "python3",
      "display_name": "Python 3"
    },
    "language_info": {
      "name": "python"
    }
  },
  "cells": [
    {
      "cell_type": "markdown",
      "metadata": {
        "id": "view-in-github",
        "colab_type": "text"
      },
      "source": [
        "<a href=\"https://colab.research.google.com/github/shaheer-baig43/Python-Projects/blob/main/Password_Generator.ipynb\" target=\"_parent\"><img src=\"https://colab.research.google.com/assets/colab-badge.svg\" alt=\"Open In Colab\"/></a>"
      ]
    },
    {
      "cell_type": "code",
      "execution_count": null,
      "metadata": {
        "id": "PWGvicWEmVgo"
      },
      "outputs": [],
      "source": []
    },
    {
      "cell_type": "markdown",
      "source": [
        "**Project 7: Password Generator**"
      ],
      "metadata": {
        "id": "2hZHe9EpmWC0"
      }
    },
    {
      "cell_type": "code",
      "source": [
        "#Project 7: Password Generator\n",
        "\n",
        "import random\n",
        "import string\n",
        "\n",
        "\n",
        "def password_generator(length = 12):\n",
        "    characters = string.ascii_letters + string.digits + string.punctuation\n",
        "    password = ''.join(random.choice(characters) for _ in range(length))\n",
        "    return password\n",
        "\n",
        "\n",
        "length = int(input('Enter your desired length of your password : '))\n",
        "\n",
        "password = password_generator(length)\n",
        "\n",
        "\n",
        "print (f'Your generated password is: {password}')\n"
      ],
      "metadata": {
        "colab": {
          "base_uri": "https://localhost:8080/"
        },
        "id": "JGtAEuvMmg_s",
        "outputId": "01c0fa0e-5ed4-40e9-90b6-b835b6e421da"
      },
      "execution_count": 2,
      "outputs": [
        {
          "output_type": "stream",
          "name": "stdout",
          "text": [
            "Enter your desired length of your password : 5\n",
            "Your generated password is: wU/qP\n"
          ]
        }
      ]
    }
  ]
}