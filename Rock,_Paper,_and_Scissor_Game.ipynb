{
  "nbformat": 4,
  "nbformat_minor": 0,
  "metadata": {
    "colab": {
      "provenance": [],
      "authorship_tag": "ABX9TyO/jhGgZ0CSIoWYvg9kyGth",
      "include_colab_link": true
    },
    "kernelspec": {
      "name": "python3",
      "display_name": "Python 3"
    },
    "language_info": {
      "name": "python"
    }
  },
  "cells": [
    {
      "cell_type": "markdown",
      "metadata": {
        "id": "view-in-github",
        "colab_type": "text"
      },
      "source": [
        "<a href=\"https://colab.research.google.com/github/shaheer-baig43/Python-Projects/blob/main/Rock%2C_Paper%2C_and_Scissor_Game.ipynb\" target=\"_parent\"><img src=\"https://colab.research.google.com/assets/colab-badge.svg\" alt=\"Open In Colab\"/></a>"
      ]
    },
    {
      "cell_type": "code",
      "execution_count": null,
      "metadata": {
        "id": "a9XsxwueCeq1"
      },
      "outputs": [],
      "source": []
    },
    {
      "cell_type": "markdown",
      "source": [
        "**Project 4: Rock, Paper, and Scissor Game**"
      ],
      "metadata": {
        "id": "fP25v_oGCfSJ"
      }
    },
    {
      "cell_type": "code",
      "source": [
        "import random\n",
        "\n",
        "print(\"This is a simple rock, paper, and scissors game.\")\n",
        "\n",
        "\n",
        "choices = ['rock', 'paper', 'scissors']\n",
        "\n",
        "player_choice = input(\"Enter your choice (rock, paper, scissors): \").lower()\n",
        "\n",
        "computer_choice = random.choice(choices)\n",
        "print(f\"This is my choice: {computer_choice}\")\n",
        "if player_choice == computer_choice:\n",
        "    print(f\"Both players selected {player_choice}. It's a tie!\")\n",
        "elif player_choice == 'rock' and computer_choice == 'scissors':\n",
        "    print(\"Rock smashes scissors! You win!\")\n",
        "elif player_choice == 'paper' and computer_choice == 'rock':\n",
        "    print(\"Paper covers rock! You win!\")\n",
        "elif player_choice == 'scissors' and computer_choice == 'paper':\n",
        "    print(\"Scissors cuts paper! You win!\")\n",
        "elif player_choice == 'rock' and computer_choice == 'paper':\n",
        "    print(\"Paper covers rock! I win!\")\n",
        "elif player_choice == 'paper' and computer_choice == 'scissors':\n",
        "    print(\"Scissors cuts paper! I win!\")\n",
        "elif player_choice == 'scissors' and computer_choice == 'rock':\n",
        "    print(\"Rock smashes scissors! I win!\")\n",
        "else:\n",
        "    print(\"Invalid input\")\n",
        "\n"
      ],
      "metadata": {
        "colab": {
          "base_uri": "https://localhost:8080/"
        },
        "id": "t2lJk9f4Cv2Q",
        "outputId": "a1e38537-75ed-46cb-8ac0-9813d1117da2"
      },
      "execution_count": 1,
      "outputs": [
        {
          "output_type": "stream",
          "name": "stdout",
          "text": [
            "This is a simple rock, paper, and scissors game.\n",
            "Enter your choice (rock, paper, scissors): rock\n",
            "This is my choice: paper\n",
            "Paper covers rock! I win!\n"
          ]
        }
      ]
    }
  ]
}